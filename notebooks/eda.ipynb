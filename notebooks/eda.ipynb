{
 "cells": [
  {
   "cell_type": "code",
   "id": "initial_id",
   "metadata": {
    "collapsed": true,
    "ExecuteTime": {
     "end_time": "2024-08-05T07:49:11.719307Z",
     "start_time": "2024-08-05T07:49:09.931466Z"
    }
   },
   "source": [
    "import nltk\n",
    "import pandas as pd\n",
    "from rake_nltk  import Rake"
   ],
   "outputs": [],
   "execution_count": 1
  },
  {
   "metadata": {
    "ExecuteTime": {
     "end_time": "2024-08-05T07:49:16.901027Z",
     "start_time": "2024-08-05T07:49:16.353033Z"
    }
   },
   "cell_type": "code",
   "source": [
    "nltk.download('stopwords')\n",
    "nltk.download('punkt')"
   ],
   "id": "3c74f6ec401a38aa",
   "outputs": [
    {
     "name": "stderr",
     "output_type": "stream",
     "text": [
      "[nltk_data] Downloading package stopwords to\n",
      "[nltk_data]     C:\\Users\\OJTEDG\\AppData\\Roaming\\nltk_data...\n",
      "[nltk_data]   Package stopwords is already up-to-date!\n",
      "[nltk_data] Downloading package punkt to\n",
      "[nltk_data]     C:\\Users\\OJTEDG\\AppData\\Roaming\\nltk_data...\n",
      "[nltk_data]   Package punkt is already up-to-date!\n"
     ]
    },
    {
     "data": {
      "text/plain": [
       "True"
      ]
     },
     "execution_count": 2,
     "metadata": {},
     "output_type": "execute_result"
    }
   ],
   "execution_count": 2
  },
  {
   "metadata": {
    "ExecuteTime": {
     "end_time": "2024-08-05T07:49:30.519416Z",
     "start_time": "2024-08-05T07:49:28.750435Z"
    }
   },
   "cell_type": "code",
   "source": [
    "r = Rake()\n",
    "\n",
    "df = pd.read_parquet(r'C:\\Users\\OJTEDG\\PycharmProjects\\cabiclustering\\data\\raw\\2010_de.parquet')"
   ],
   "id": "6144c4ee2c01a60d",
   "outputs": [],
   "execution_count": 3
  },
  {
   "metadata": {
    "ExecuteTime": {
     "end_time": "2024-08-05T07:49:31.809608Z",
     "start_time": "2024-08-05T07:49:31.791503Z"
    }
   },
   "cell_type": "code",
   "source": "df.head()",
   "id": "f3c4ce7249f31a95",
   "outputs": [
    {
     "data": {
      "text/plain": [
       "               PAN                                          ET and AB  \\\n",
       "index                                                                   \n",
       "12677  20103000052  Modification of bovine milk protein system by ...   \n",
       "12678  20103000055  Compositional properties of dried yoghurt (Kur...   \n",
       "12679  20103000056  Ezine cheese: I. Aroma characterisation. The a...   \n",
       "12680  20103000058  Classification of various milk products manufa...   \n",
       "12681  20103000106  Marketing structure and transaction pattern di...   \n",
       "\n",
       "                                                      DE BC Index  Year  \n",
       "index                                                                    \n",
       "12677  casein\\food chemistry\\food processing\\food tec...  D     D  2010  \n",
       "12678  chemical composition\\dry matter\\fat\\food proce...  D     D  2010  \n",
       "12679  acetic acid\\acids\\aldehydes\\aroma\\aromatic com...  D     D  2010  \n",
       "12680  analytical methods\\cheeses\\classification\\clus...  D     D  2010  \n",
       "12681  cows\\dairy cattle\\dairy cooperatives\\dairy cow...  D     D  2010  "
      ],
      "text/html": [
       "<div>\n",
       "<style scoped>\n",
       "    .dataframe tbody tr th:only-of-type {\n",
       "        vertical-align: middle;\n",
       "    }\n",
       "\n",
       "    .dataframe tbody tr th {\n",
       "        vertical-align: top;\n",
       "    }\n",
       "\n",
       "    .dataframe thead th {\n",
       "        text-align: right;\n",
       "    }\n",
       "</style>\n",
       "<table border=\"1\" class=\"dataframe\">\n",
       "  <thead>\n",
       "    <tr style=\"text-align: right;\">\n",
       "      <th></th>\n",
       "      <th>PAN</th>\n",
       "      <th>ET and AB</th>\n",
       "      <th>DE</th>\n",
       "      <th>BC</th>\n",
       "      <th>Index</th>\n",
       "      <th>Year</th>\n",
       "    </tr>\n",
       "    <tr>\n",
       "      <th>index</th>\n",
       "      <th></th>\n",
       "      <th></th>\n",
       "      <th></th>\n",
       "      <th></th>\n",
       "      <th></th>\n",
       "      <th></th>\n",
       "    </tr>\n",
       "  </thead>\n",
       "  <tbody>\n",
       "    <tr>\n",
       "      <th>12677</th>\n",
       "      <td>20103000052</td>\n",
       "      <td>Modification of bovine milk protein system by ...</td>\n",
       "      <td>casein\\food chemistry\\food processing\\food tec...</td>\n",
       "      <td>D</td>\n",
       "      <td>D</td>\n",
       "      <td>2010</td>\n",
       "    </tr>\n",
       "    <tr>\n",
       "      <th>12678</th>\n",
       "      <td>20103000055</td>\n",
       "      <td>Compositional properties of dried yoghurt (Kur...</td>\n",
       "      <td>chemical composition\\dry matter\\fat\\food proce...</td>\n",
       "      <td>D</td>\n",
       "      <td>D</td>\n",
       "      <td>2010</td>\n",
       "    </tr>\n",
       "    <tr>\n",
       "      <th>12679</th>\n",
       "      <td>20103000056</td>\n",
       "      <td>Ezine cheese: I. Aroma characterisation. The a...</td>\n",
       "      <td>acetic acid\\acids\\aldehydes\\aroma\\aromatic com...</td>\n",
       "      <td>D</td>\n",
       "      <td>D</td>\n",
       "      <td>2010</td>\n",
       "    </tr>\n",
       "    <tr>\n",
       "      <th>12680</th>\n",
       "      <td>20103000058</td>\n",
       "      <td>Classification of various milk products manufa...</td>\n",
       "      <td>analytical methods\\cheeses\\classification\\clus...</td>\n",
       "      <td>D</td>\n",
       "      <td>D</td>\n",
       "      <td>2010</td>\n",
       "    </tr>\n",
       "    <tr>\n",
       "      <th>12681</th>\n",
       "      <td>20103000106</td>\n",
       "      <td>Marketing structure and transaction pattern di...</td>\n",
       "      <td>cows\\dairy cattle\\dairy cooperatives\\dairy cow...</td>\n",
       "      <td>D</td>\n",
       "      <td>D</td>\n",
       "      <td>2010</td>\n",
       "    </tr>\n",
       "  </tbody>\n",
       "</table>\n",
       "</div>"
      ]
     },
     "execution_count": 4,
     "metadata": {},
     "output_type": "execute_result"
    }
   ],
   "execution_count": 4
  },
  {
   "metadata": {
    "ExecuteTime": {
     "end_time": "2024-08-05T07:52:19.412282Z",
     "start_time": "2024-08-05T07:52:19.396121Z"
    }
   },
   "cell_type": "code",
   "source": "print(\"All indeces: \", df['Index'].unique())",
   "id": "290be118c170ac95",
   "outputs": [
    {
     "name": "stdout",
     "output_type": "stream",
     "text": [
      "All indeces:  ['D' 'H' 'K' 'R' 'S' 'T' 'U' 'V' 'X']\n"
     ]
    }
   ],
   "execution_count": 10
  },
  {
   "metadata": {
    "ExecuteTime": {
     "end_time": "2024-08-05T07:54:00.733862Z",
     "start_time": "2024-08-05T07:54:00.692011Z"
    }
   },
   "cell_type": "code",
   "source": [
    "df_D = df[df['Index'] == 'D']\n",
    "print(df_D)"
   ],
   "id": "6c3578e2c1849de6",
   "outputs": [
    {
     "name": "stdout",
     "output_type": "stream",
     "text": [
      "               PAN                                          ET and AB  \\\n",
      "index                                                                   \n",
      "12677  20103000052  Modification of bovine milk protein system by ...   \n",
      "12678  20103000055  Compositional properties of dried yoghurt (Kur...   \n",
      "12679  20103000056  Ezine cheese: I. Aroma characterisation. The a...   \n",
      "12680  20103000058  Classification of various milk products manufa...   \n",
      "12681  20103000106  Marketing structure and transaction pattern di...   \n",
      "...            ...                                                ...   \n",
      "25984  20103384265  Staphylococcus devriesei sp. nov., isolated fr...   \n",
      "25985  20103384268  Pantoea gaviniae sp. nov. and Pantoea calida s...   \n",
      "25986  20103384299     Nutritional management during hospitalization.   \n",
      "25987  20103384301  Beneficial effects of colostrum supplements in...   \n",
      "25988  20103384412  Influence of antibiotics on acidophilus milk a...   \n",
      "\n",
      "                                                      DE BC Index  Year  \n",
      "index                                                                    \n",
      "12677  casein\\food chemistry\\food processing\\food tec...  D     D  2010  \n",
      "12678  chemical composition\\dry matter\\fat\\food proce...  D     D  2010  \n",
      "12679  acetic acid\\acids\\aldehydes\\aroma\\aromatic com...  D     D  2010  \n",
      "12680  analytical methods\\cheeses\\classification\\clus...  D     D  2010  \n",
      "12681  cows\\dairy cattle\\dairy cooperatives\\dairy cow...  D     D  2010  \n",
      "...                                                  ... ..   ...   ...  \n",
      "25984  bacterial diseases\\bovine mastitis\\cows\\dairy ...  D     D  2010  \n",
      "25985  food contamination\\genes\\genetic analysis\\infa...  D     D  2010  \n",
      "25986  antioxidants\\diets\\digestive disorders\\domesti...  N     D  2010  \n",
      "25987  animal feeding\\antibodies\\colostral immunity\\c...  N     D  2010  \n",
      "25988  acidity\\acidophilus milk\\aminoglycoside antibi...  D     D  2010  \n",
      "\n",
      "[9664 rows x 6 columns]\n"
     ]
    }
   ],
   "execution_count": 14
  },
  {
   "metadata": {
    "ExecuteTime": {
     "end_time": "2024-08-05T08:00:28.401270Z",
     "start_time": "2024-08-05T08:00:28.383946Z"
    }
   },
   "cell_type": "code",
   "source": [
    "text = df_D.iloc[0]['ET and AB']\n",
    "DE_keywords = df_D.iloc[0]['DE']\n",
    "print(text)"
   ],
   "id": "d56524344a82fb37",
   "outputs": [
    {
     "name": "stdout",
     "output_type": "stream",
     "text": [
      "Modification of bovine milk protein system by transglutaminase. In this study the effect of transglutaminase (tgase) on individual bovine milk proteins in skim milk samples was investigated with a kinetic approach in skimmilk samples. Raw and preheated (80°C/5 minutes) samples were incubated with tgase with 2 different enzymes with the protein ratios of 1:10 and 1:20 for upto 4 hours at 3 different incubation temperatures (4, 30 and 42°C). It was found that tgase had no effect on the native whey proteins. The highest reaction rate constant value (k) was found for κ-casein, and it was followed by β-casein and α-casein, respectively in heated and unheated skimmilk samples. The crosslinking reaction was almost completed within the first 5 minutes at 42°C for κ-casein. The Ea value (activation energy) of β-casein (29 kj/mol) was found to be lower than that of α-casein (45 kj/mol). On the other hand, when the kinetic parameters were evaluated, it is postulated that tgase can be used for cheese manufacturing (30°C, at 1:10 E:P ratio) and yoghurt production (42°C, at 1:20 E:P ratio). This approach will be investigated in further studies.\n"
     ]
    }
   ],
   "execution_count": 25
  },
  {
   "metadata": {
    "ExecuteTime": {
     "end_time": "2024-08-05T08:00:40.523911Z",
     "start_time": "2024-08-05T08:00:40.517842Z"
    }
   },
   "cell_type": "code",
   "source": [
    "r.extract_keywords_from_text(text)\n",
    "keywords = r.get_ranked_phrases_with_scores()"
   ],
   "id": "5124c692fddb31f7",
   "outputs": [],
   "execution_count": 28
  },
  {
   "metadata": {
    "ExecuteTime": {
     "end_time": "2024-08-05T08:28:39.590820Z",
     "start_time": "2024-08-05T08:28:39.570537Z"
    }
   },
   "cell_type": "code",
   "source": "keywords[:200]",
   "id": "57342b1c46b77ae7",
   "outputs": [
    {
     "data": {
      "text/plain": [
       "[(22.0, 'highest reaction rate constant value'),\n",
       " (15.5, '3 different incubation temperatures'),\n",
       " (15.166666666666666, 'individual bovine milk proteins'),\n",
       " (14.666666666666666, 'bovine milk protein system'),\n",
       " (12.733333333333334, '42 ° c ).'),\n",
       " (9.733333333333334, '42 ° c'),\n",
       " (9.733333333333334, '42 ° c'),\n",
       " (9.5, 'native whey proteins'),\n",
       " (9.5, '2 different enzymes'),\n",
       " (9.4, '80 ° c'),\n",
       " (9.0, 'almost completed within'),\n",
       " (8.916666666666666, 'skim milk samples'),\n",
       " (8.4, '30 ° c'),\n",
       " (8.0, 'upto 4 hours'),\n",
       " (8.0, 'p ratio ).'),\n",
       " (8.0, 'first 5 minutes'),\n",
       " (7.75, 'unheated skimmilk samples'),\n",
       " (5.5, 'ea value'),\n",
       " (5.5, 'crosslinking reaction'),\n",
       " (5.0, 'protein ratios'),\n",
       " (5.0, 'p ratio'),\n",
       " (5.0, '5 minutes'),\n",
       " (4.75, 'skimmilk samples'),\n",
       " (4.5, 'mol ).'),\n",
       " (4.0, 'yoghurt production'),\n",
       " (4.0, 'kinetic parameters'),\n",
       " (4.0, 'cheese manufacturing'),\n",
       " (4.0, 'activation energy'),\n",
       " (4.0, '45 kj'),\n",
       " (4.0, '29 kj'),\n",
       " (3.5, 'kinetic approach'),\n",
       " (3.5, '20 e'),\n",
       " (3.5, '10 e'),\n",
       " (2.25, 'samples'),\n",
       " (2.0, '4'),\n",
       " (2.0, '30'),\n",
       " (1.5, 'mol'),\n",
       " (1.5, 'approach'),\n",
       " (1.5, '20'),\n",
       " (1.5, '10'),\n",
       " (1.0, 'κ'),\n",
       " (1.0, 'κ'),\n",
       " (1.0, 'β'),\n",
       " (1.0, 'β'),\n",
       " (1.0, 'α'),\n",
       " (1.0, 'α'),\n",
       " (1.0, 'used'),\n",
       " (1.0, 'transglutaminase'),\n",
       " (1.0, 'transglutaminase'),\n",
       " (1.0, 'tgase'),\n",
       " (1.0, 'tgase'),\n",
       " (1.0, 'tgase'),\n",
       " (1.0, 'tgase'),\n",
       " (1.0, 'study'),\n",
       " (1.0, 'studies'),\n",
       " (1.0, 'respectively'),\n",
       " (1.0, 'raw'),\n",
       " (1.0, 'preheated'),\n",
       " (1.0, 'postulated'),\n",
       " (1.0, 'modification'),\n",
       " (1.0, 'lower'),\n",
       " (1.0, 'k'),\n",
       " (1.0, 'investigated'),\n",
       " (1.0, 'investigated'),\n",
       " (1.0, 'incubated'),\n",
       " (1.0, 'heated'),\n",
       " (1.0, 'hand'),\n",
       " (1.0, 'found'),\n",
       " (1.0, 'found'),\n",
       " (1.0, 'found'),\n",
       " (1.0, 'followed'),\n",
       " (1.0, 'evaluated'),\n",
       " (1.0, 'effect'),\n",
       " (1.0, 'effect'),\n",
       " (1.0, 'casein'),\n",
       " (1.0, 'casein'),\n",
       " (1.0, 'casein'),\n",
       " (1.0, 'casein'),\n",
       " (1.0, 'casein'),\n",
       " (1.0, 'casein'),\n",
       " (1.0, '1'),\n",
       " (1.0, '1'),\n",
       " (1.0, '1'),\n",
       " (1.0, '1')]"
      ]
     },
     "execution_count": 36,
     "metadata": {},
     "output_type": "execute_result"
    }
   ],
   "execution_count": 36
  },
  {
   "metadata": {
    "ExecuteTime": {
     "end_time": "2024-08-05T08:00:58.880828Z",
     "start_time": "2024-08-05T08:00:58.871419Z"
    }
   },
   "cell_type": "code",
   "source": "print(DE_keywords)",
   "id": "98ac7a5307ac5c0a",
   "outputs": [
    {
     "name": "stdout",
     "output_type": "stream",
     "text": [
      "casein\\food chemistry\\food processing\\food technology\\kinetics\\milk\\milk proteins\\modification\\skim milk\\transferases\\transglutaminases\n"
     ]
    }
   ],
   "execution_count": 31
  },
  {
   "metadata": {
    "ExecuteTime": {
     "end_time": "2024-08-05T08:02:54.473247Z",
     "start_time": "2024-08-05T08:02:53.626138Z"
    }
   },
   "cell_type": "code",
   "source": [
    "from yake import KeywordExtractor\n",
    "\n",
    "extractor = KeywordExtractor()"
   ],
   "id": "a40f95a337f84961",
   "outputs": [],
   "execution_count": 32
  },
  {
   "metadata": {
    "ExecuteTime": {
     "end_time": "2024-08-05T08:03:19.161671Z",
     "start_time": "2024-08-05T08:03:19.097639Z"
    }
   },
   "cell_type": "code",
   "source": "yake_keywords = extractor.extract_keywords(text)",
   "id": "7f2d20027ca0c39",
   "outputs": [],
   "execution_count": 33
  },
  {
   "metadata": {
    "ExecuteTime": {
     "end_time": "2024-08-05T08:03:45.471539Z",
     "start_time": "2024-08-05T08:03:45.464991Z"
    }
   },
   "cell_type": "code",
   "source": [
    "for kw in keywords:\n",
    "    print(\"Keyword: \", kw[0], \"Score: \", kw[1])"
   ],
   "id": "e41e6a9cd2314e59",
   "outputs": [
    {
     "name": "stdout",
     "output_type": "stream",
     "text": [
      "Keyword:  22.0 Score:  highest reaction rate constant value\n",
      "Keyword:  15.5 Score:  3 different incubation temperatures\n",
      "Keyword:  15.166666666666666 Score:  individual bovine milk proteins\n",
      "Keyword:  14.666666666666666 Score:  bovine milk protein system\n",
      "Keyword:  12.733333333333334 Score:  42 ° c ).\n",
      "Keyword:  9.733333333333334 Score:  42 ° c\n",
      "Keyword:  9.733333333333334 Score:  42 ° c\n",
      "Keyword:  9.5 Score:  native whey proteins\n",
      "Keyword:  9.5 Score:  2 different enzymes\n",
      "Keyword:  9.4 Score:  80 ° c\n",
      "Keyword:  9.0 Score:  almost completed within\n",
      "Keyword:  8.916666666666666 Score:  skim milk samples\n",
      "Keyword:  8.4 Score:  30 ° c\n",
      "Keyword:  8.0 Score:  upto 4 hours\n",
      "Keyword:  8.0 Score:  p ratio ).\n",
      "Keyword:  8.0 Score:  first 5 minutes\n",
      "Keyword:  7.75 Score:  unheated skimmilk samples\n",
      "Keyword:  5.5 Score:  ea value\n",
      "Keyword:  5.5 Score:  crosslinking reaction\n",
      "Keyword:  5.0 Score:  protein ratios\n",
      "Keyword:  5.0 Score:  p ratio\n",
      "Keyword:  5.0 Score:  5 minutes\n",
      "Keyword:  4.75 Score:  skimmilk samples\n",
      "Keyword:  4.5 Score:  mol ).\n",
      "Keyword:  4.0 Score:  yoghurt production\n",
      "Keyword:  4.0 Score:  kinetic parameters\n",
      "Keyword:  4.0 Score:  cheese manufacturing\n",
      "Keyword:  4.0 Score:  activation energy\n",
      "Keyword:  4.0 Score:  45 kj\n",
      "Keyword:  4.0 Score:  29 kj\n",
      "Keyword:  3.5 Score:  kinetic approach\n",
      "Keyword:  3.5 Score:  20 e\n",
      "Keyword:  3.5 Score:  10 e\n",
      "Keyword:  2.25 Score:  samples\n",
      "Keyword:  2.0 Score:  4\n",
      "Keyword:  2.0 Score:  30\n",
      "Keyword:  1.5 Score:  mol\n",
      "Keyword:  1.5 Score:  approach\n",
      "Keyword:  1.5 Score:  20\n",
      "Keyword:  1.5 Score:  10\n",
      "Keyword:  1.0 Score:  κ\n",
      "Keyword:  1.0 Score:  κ\n",
      "Keyword:  1.0 Score:  β\n",
      "Keyword:  1.0 Score:  β\n",
      "Keyword:  1.0 Score:  α\n",
      "Keyword:  1.0 Score:  α\n",
      "Keyword:  1.0 Score:  used\n",
      "Keyword:  1.0 Score:  transglutaminase\n",
      "Keyword:  1.0 Score:  transglutaminase\n",
      "Keyword:  1.0 Score:  tgase\n",
      "Keyword:  1.0 Score:  tgase\n",
      "Keyword:  1.0 Score:  tgase\n",
      "Keyword:  1.0 Score:  tgase\n",
      "Keyword:  1.0 Score:  study\n",
      "Keyword:  1.0 Score:  studies\n",
      "Keyword:  1.0 Score:  respectively\n",
      "Keyword:  1.0 Score:  raw\n",
      "Keyword:  1.0 Score:  preheated\n",
      "Keyword:  1.0 Score:  postulated\n",
      "Keyword:  1.0 Score:  modification\n",
      "Keyword:  1.0 Score:  lower\n",
      "Keyword:  1.0 Score:  k\n",
      "Keyword:  1.0 Score:  investigated\n",
      "Keyword:  1.0 Score:  investigated\n",
      "Keyword:  1.0 Score:  incubated\n",
      "Keyword:  1.0 Score:  heated\n",
      "Keyword:  1.0 Score:  hand\n",
      "Keyword:  1.0 Score:  found\n",
      "Keyword:  1.0 Score:  found\n",
      "Keyword:  1.0 Score:  found\n",
      "Keyword:  1.0 Score:  followed\n",
      "Keyword:  1.0 Score:  evaluated\n",
      "Keyword:  1.0 Score:  effect\n",
      "Keyword:  1.0 Score:  effect\n",
      "Keyword:  1.0 Score:  casein\n",
      "Keyword:  1.0 Score:  casein\n",
      "Keyword:  1.0 Score:  casein\n",
      "Keyword:  1.0 Score:  casein\n",
      "Keyword:  1.0 Score:  casein\n",
      "Keyword:  1.0 Score:  casein\n",
      "Keyword:  1.0 Score:  1\n",
      "Keyword:  1.0 Score:  1\n",
      "Keyword:  1.0 Score:  1\n",
      "Keyword:  1.0 Score:  1\n"
     ]
    }
   ],
   "execution_count": 35
  },
  {
   "metadata": {},
   "cell_type": "code",
   "outputs": [],
   "execution_count": null,
   "source": "",
   "id": "7679a2e3b04473b4"
  }
 ],
 "metadata": {
  "kernelspec": {
   "display_name": "Python 3",
   "language": "python",
   "name": "python3"
  },
  "language_info": {
   "codemirror_mode": {
    "name": "ipython",
    "version": 2
   },
   "file_extension": ".py",
   "mimetype": "text/x-python",
   "name": "python",
   "nbconvert_exporter": "python",
   "pygments_lexer": "ipython2",
   "version": "2.7.6"
  }
 },
 "nbformat": 4,
 "nbformat_minor": 5
}
